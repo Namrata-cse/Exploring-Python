{
  "nbformat": 4,
  "nbformat_minor": 0,
  "metadata": {
    "colab": {
      "name": "spellchecker.ipynb",
      "provenance": [],
      "authorship_tag": "ABX9TyMBdtMJ234Rb6y2ZJxpz1Ih",
      "include_colab_link": true
    },
    "kernelspec": {
      "name": "python3",
      "display_name": "Python 3"
    },
    "language_info": {
      "name": "python"
    }
  },
  "cells": [
    {
      "cell_type": "markdown",
      "metadata": {
        "id": "view-in-github",
        "colab_type": "text"
      },
      "source": [
        "<a href=\"https://colab.research.google.com/github/Namrata-cse/Exploring-Python/blob/main/spellchecker.ipynb\" target=\"_parent\"><img src=\"https://colab.research.google.com/assets/colab-badge.svg\" alt=\"Open In Colab\"/></a>"
      ]
    },
    {
      "cell_type": "code",
      "metadata": {
        "id": "WqwLwtvpYQYc"
      },
      "source": [
        "from textblob import TextBlob"
      ],
      "execution_count": 1,
      "outputs": []
    },
    {
      "cell_type": "code",
      "metadata": {
        "colab": {
          "base_uri": "https://localhost:8080/"
        },
        "id": "ze6YLGYIYaHe",
        "outputId": "03b257b7-9ea9-4397-983c-9120d8f09359"
      },
      "source": [
        "#wrong spelling\n",
        "a=\"Amrica\"\n",
        "print(\"Original text:\"+str(a))"
      ],
      "execution_count": 16,
      "outputs": [
        {
          "output_type": "stream",
          "text": [
            "Original text:Amrica\n"
          ],
          "name": "stdout"
        }
      ]
    },
    {
      "cell_type": "code",
      "metadata": {
        "id": "hX2n__lBZdlv"
      },
      "source": [
        "b=TextBlob(a)"
      ],
      "execution_count": 17,
      "outputs": []
    },
    {
      "cell_type": "code",
      "metadata": {
        "colab": {
          "base_uri": "https://localhost:8080/"
        },
        "id": "YgOah77sZnv5",
        "outputId": "14fbf293-2f14-4330-dd7e-38729e079fad"
      },
      "source": [
        "print(\"Corrected Text:\"+str(b.correct()))"
      ],
      "execution_count": 18,
      "outputs": [
        {
          "output_type": "stream",
          "text": [
            "Corrected Text:America\n"
          ],
          "name": "stdout"
        }
      ]
    }
  ]
}