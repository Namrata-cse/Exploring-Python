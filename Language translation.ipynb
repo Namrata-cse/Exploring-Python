{
 "cells": [
  {
   "cell_type": "code",
   "execution_count": 2,
   "metadata": {},
   "outputs": [
    {
     "name": "stdout",
     "output_type": "stream",
     "text": [
      "Requirement already satisfied: translate in c:\\users\\namrata\\anaconda3\\lib\\site-packages (3.5.0)\n",
      "Requirement already satisfied: requests in c:\\users\\namrata\\anaconda3\\lib\\site-packages (from translate) (2.24.0)\n",
      "Requirement already satisfied: lxml in c:\\users\\namrata\\anaconda3\\lib\\site-packages (from translate) (4.6.1)\n",
      "Requirement already satisfied: click in c:\\users\\namrata\\anaconda3\\lib\\site-packages (from translate) (7.1.2)\n",
      "Requirement already satisfied: pre-commit in c:\\users\\namrata\\anaconda3\\lib\\site-packages (from translate) (2.13.0)\n",
      "Requirement already satisfied: tox in c:\\users\\namrata\\anaconda3\\lib\\site-packages (from translate) (3.23.1)\n",
      "Requirement already satisfied: chardet<4,>=3.0.2 in c:\\users\\namrata\\anaconda3\\lib\\site-packages (from requests->translate) (3.0.4)\n",
      "Requirement already satisfied: urllib3!=1.25.0,!=1.25.1,<1.26,>=1.21.1 in c:\\users\\namrata\\anaconda3\\lib\\site-packages (from requests->translate) (1.25.11)\n",
      "Requirement already satisfied: certifi>=2017.4.17 in c:\\users\\namrata\\anaconda3\\lib\\site-packages (from requests->translate) (2020.6.20)\n",
      "Requirement already satisfied: idna<3,>=2.5 in c:\\users\\namrata\\anaconda3\\lib\\site-packages (from requests->translate) (2.10)\n",
      "Requirement already satisfied: virtualenv>=20.0.8 in c:\\users\\namrata\\anaconda3\\lib\\site-packages (from pre-commit->translate) (20.4.6)\n",
      "Requirement already satisfied: cfgv>=2.0.0 in c:\\users\\namrata\\anaconda3\\lib\\site-packages (from pre-commit->translate) (3.3.0)\n",
      "Requirement already satisfied: identify>=1.0.0 in c:\\users\\namrata\\anaconda3\\lib\\site-packages (from pre-commit->translate) (2.2.5)\n",
      "Requirement already satisfied: nodeenv>=0.11.1 in c:\\users\\namrata\\anaconda3\\lib\\site-packages (from pre-commit->translate) (1.6.0)\n",
      "Requirement already satisfied: toml in c:\\users\\namrata\\anaconda3\\lib\\site-packages (from pre-commit->translate) (0.10.1)\n",
      "Requirement already satisfied: pyyaml>=5.1 in c:\\users\\namrata\\anaconda3\\lib\\site-packages (from pre-commit->translate) (5.3.1)\n",
      "Requirement already satisfied: colorama>=0.4.1; platform_system == \"Windows\" in c:\\users\\namrata\\anaconda3\\lib\\site-packages (from tox->translate) (0.4.4)\n",
      "Requirement already satisfied: six>=1.14.0 in c:\\users\\namrata\\anaconda3\\lib\\site-packages (from tox->translate) (1.15.0)\n",
      "Requirement already satisfied: packaging>=14 in c:\\users\\namrata\\anaconda3\\lib\\site-packages (from tox->translate) (20.4)\n",
      "Requirement already satisfied: pluggy>=0.12.0 in c:\\users\\namrata\\anaconda3\\lib\\site-packages (from tox->translate) (0.13.1)\n",
      "Requirement already satisfied: filelock>=3.0.0 in c:\\users\\namrata\\anaconda3\\lib\\site-packages (from tox->translate) (3.0.12)\n",
      "Requirement already satisfied: py>=1.4.17 in c:\\users\\namrata\\anaconda3\\lib\\site-packages (from tox->translate) (1.9.0)\n",
      "Requirement already satisfied: distlib<1,>=0.3.1 in c:\\users\\namrata\\anaconda3\\lib\\site-packages (from virtualenv>=20.0.8->pre-commit->translate) (0.3.1)\n",
      "Requirement already satisfied: appdirs<2,>=1.4.3 in c:\\users\\namrata\\anaconda3\\lib\\site-packages (from virtualenv>=20.0.8->pre-commit->translate) (1.4.4)\n",
      "Requirement already satisfied: pyparsing>=2.0.2 in c:\\users\\namrata\\anaconda3\\lib\\site-packages (from packaging>=14->tox->translate) (2.4.7)\n"
     ]
    }
   ],
   "source": [
    "!pip install translate"
   ]
  },
  {
   "cell_type": "code",
   "execution_count": 3,
   "metadata": {},
   "outputs": [],
   "source": [
    "from translate import Translator"
   ]
  },
  {
   "cell_type": "code",
   "execution_count": 4,
   "metadata": {},
   "outputs": [],
   "source": [
    "translator=Translator(from_lang='French',to_lang='English')"
   ]
  },
  {
   "cell_type": "code",
   "execution_count": 5,
   "metadata": {},
   "outputs": [],
   "source": [
    "result=translator.translate('Bonjour')"
   ]
  },
  {
   "cell_type": "code",
   "execution_count": 6,
   "metadata": {},
   "outputs": [
    {
     "name": "stdout",
     "output_type": "stream",
     "text": [
      "Hello,\n"
     ]
    }
   ],
   "source": [
    "print(result)"
   ]
  },
  {
   "cell_type": "code",
   "execution_count": 7,
   "metadata": {},
   "outputs": [],
   "source": [
    "a=Translator(from_lang='English',to_lang='French')"
   ]
  },
  {
   "cell_type": "code",
   "execution_count": 8,
   "metadata": {},
   "outputs": [],
   "source": [
    "x=a.translate('Hello')"
   ]
  },
  {
   "cell_type": "code",
   "execution_count": 9,
   "metadata": {},
   "outputs": [
    {
     "name": "stdout",
     "output_type": "stream",
     "text": [
      "Bonjour\n"
     ]
    }
   ],
   "source": [
    "print(x)"
   ]
  },
  {
   "cell_type": "code",
   "execution_count": 10,
   "metadata": {},
   "outputs": [],
   "source": [
    "b=Translator(from_lang='English',to_lang='Spanish')"
   ]
  },
  {
   "cell_type": "code",
   "execution_count": 14,
   "metadata": {},
   "outputs": [],
   "source": [
    "x=b.translate('Hello')"
   ]
  },
  {
   "cell_type": "code",
   "execution_count": 15,
   "metadata": {},
   "outputs": [
    {
     "name": "stdout",
     "output_type": "stream",
     "text": [
      "Hola\n"
     ]
    }
   ],
   "source": [
    "print(x)"
   ]
  },
  {
   "cell_type": "code",
   "execution_count": 29,
   "metadata": {},
   "outputs": [],
   "source": [
    "playsound(audio2)"
   ]
  }
 ],
 "metadata": {
  "kernelspec": {
   "display_name": "Python 3",
   "language": "python",
   "name": "python3"
  },
  "language_info": {
   "codemirror_mode": {
    "name": "ipython",
    "version": 3
   },
   "file_extension": ".py",
   "mimetype": "text/x-python",
   "name": "python",
   "nbconvert_exporter": "python",
   "pygments_lexer": "ipython3",
   "version": "3.8.5"
  }
 },
 "nbformat": 4,
 "nbformat_minor": 4
}
